{
 "cells": [
  {
   "cell_type": "code",
   "execution_count": 1,
   "metadata": {},
   "outputs": [],
   "source": [
    "import numpy as np"
   ]
  },
  {
   "cell_type": "code",
   "execution_count": 2,
   "metadata": {},
   "outputs": [
    {
     "data": {
      "text/plain": [
       "'1.18.3'"
      ]
     },
     "execution_count": 2,
     "metadata": {},
     "output_type": "execute_result"
    }
   ],
   "source": [
    "np.__version__"
   ]
  },
  {
   "cell_type": "code",
   "execution_count": 3,
   "metadata": {},
   "outputs": [],
   "source": [
    "# 此行式子為 2 的 3.4.5 次方 = array([8,16,32])\n",
    "# scales = 2 ** np.arange(3,6)\n",
    "# python2 之 xrange() 在這邊改成 list(range())\n",
    "# list(range(8)) [0, 1, 2, 3, 4, 5, 6, 7]\n",
    "# ratio_acchors.shpae[0] 為 ratio_acchors 第一維長度"
   ]
  },
  {
   "cell_type": "code",
   "execution_count": 4,
   "metadata": {},
   "outputs": [],
   "source": [
    "def generate_anchors(base_size=16,ratios=[0.5,1,2],scales = 2**np.arange(3,6)):\n",
    "    base_anchor = np.array([1,1,base_size,base_size])-1\n",
    "# array([ 0,  0, 15, 15])\n",
    "    ratio_anchors = _ratio_enum(base_anchor,ratios) \n",
    "# vstack 矩陣上下相合併\n",
    "# for i in xrange(ratio_acchors.shpae[0])\n",
    "    \n",
    "    #ratio_anchors_shape = list(ratio_anchors.shpae[0])\n",
    "    for i in range(len(ratios)):\n",
    "        anchors=np.vstack([_scale_enum(ratio_anchors[i,:],scales)])\n",
    "    \n",
    "    return anchors\n",
    "# 產生 Anchor 透過 ratio 來決定大小，並在一個 (0,0,15,15) 的空間做畫"
   ]
  },
  {
   "cell_type": "code",
   "execution_count": 5,
   "metadata": {},
   "outputs": [],
   "source": [
    "def _whctrs(anchor):\n",
    "    \"\"\"\n",
    "    返回 width，height，x center，y center for window\n",
    "    \"\"\"\n",
    "    w = anchor[2] - anchor[0] + 1\n",
    "    h = anchor[3] - anchor[1] + 1\n",
    "    x_ctr = anchor[0] + 0.5 * ( w - 1 )\n",
    "    y_ctr = anchor[1] + 0.5 * ( h - 1 )\n",
    "    \n",
    "    return w,h,x_ctr,y_ctr"
   ]
  },
  {
   "cell_type": "code",
   "execution_count": 6,
   "metadata": {},
   "outputs": [],
   "source": [
    "# ws:[23 16 11] , hs:[12 16 22]\n",
    "def _mkanchors(ws,hs,x_ctr,y_ctr):\n",
    "    \"\"\"\n",
    "    將 width 和 height 輸入進函數並返回一個 Anchors 的 set\n",
    "    \"\"\"\n",
    "    # newaxis 意思是將數組進行轉置\n",
    "    ws = ws[:,np.newaxis]\n",
    "    hs = hs[:,np.newaxis]\n",
    "    \n",
    "    anchors = np.hstack((x_ctr - 0.5 * (ws - 1),  # hstack,vstack : 合併數組\n",
    "                         y_ctr - 0.5 * (hs - 1),  # anchor : [[-3.5 2 18.5 13]\n",
    "                         x_ctr + 0.5 * (ws - 1),  #           [0 0 15 15]           \n",
    "                         y_ctr + 0.5 * (hs - 1))) #           [2.5 -3 12.5 18]]\n",
    "    return anchors"
   ]
  },
  {
   "cell_type": "code",
   "execution_count": 7,
   "metadata": {},
   "outputs": [],
   "source": [
    "def _ratio_enum(anchor,ratios):\n",
    "    \"\"\"\n",
    "    列舉一個 Anchor 的三種寬高比 1:2,1:1,2:1\n",
    "    \"\"\"\n",
    "    # 返回 width 和 height 還有中心座標 w:16,h:16,x_ctr:7.5,y_ctr=7.5\n",
    "    w,h,x_ctr,y_ctr = _whctrs(anchor)\n",
    "    \n",
    "    # size : 16*16=256 \n",
    "    size = w * h\n",
    "    \n",
    "    # 256 / ratios[0.5,1,2]=[512,256,128]\n",
    "    size_ratios = size / ratios\n",
    "    \n",
    "    # round()方法返回 x 四舍五入的數字，sqrt()方法返回數字 x 的平方根\n",
    "    # ws:[23 16 11] hs:[12 16 22] 相互對應\n",
    "    ws = np.round(np.sqrt(size_ratios))\n",
    "    hs = np.round(ws * ratios)\n",
    "    \n",
    "    #給定一組寬高向量，輸出各個預測窗口\n",
    "    anchors = _mkanchors(ws,hs,x_ctr,y_ctr)\n",
    "    return anchors"
   ]
  },
  {
   "cell_type": "code",
   "execution_count": 8,
   "metadata": {},
   "outputs": [],
   "source": [
    "def _scale_enum(anchor,scales):\n",
    "    \"\"\"\n",
    "    列舉 Anchor 的三種尺度 128*128，256*256，512*512\n",
    "    \"\"\"\n",
    "    w,h,x_ctr,y_ctr = _whctrs(anchor)\n",
    "    \n",
    "    #[128 256 512]\n",
    "    ws = w * scales\n",
    "    hs = h * scales\n",
    "    \n",
    "    #[[-56 -56 71 71] [-120 -120 135 135] [-248 -248 263 263]]\n",
    "    anchors = _mkanchors(ws,hs,x_ctr,y_ctr)\n",
    "    return anchors"
   ]
  },
  {
   "cell_type": "code",
   "execution_count": 9,
   "metadata": {},
   "outputs": [
    {
     "name": "stdout",
     "output_type": "stream",
     "text": [
      "0.0\n",
      "[[ -36.  -80.   51.   95.]\n",
      " [ -80. -168.   95.  183.]\n",
      " [-168. -344.  183.  359.]]\n"
     ]
    }
   ],
   "source": [
    "if __name__ ==  '__main__':\n",
    "    import time\n",
    "    t = time.time()\n",
    "    #產生 Anchor 窗口\n",
    "    a = generate_anchors()\n",
    "    #顯示時間\n",
    "    print(time.time()-t)\n",
    "    print(a)\n",
    "    #from IPython import embed\n",
    "    #embed()"
   ]
  }
 ],
 "metadata": {
  "kernelspec": {
   "display_name": "Python 3",
   "language": "python",
   "name": "python3"
  },
  "language_info": {
   "codemirror_mode": {
    "name": "ipython",
    "version": 3
   },
   "file_extension": ".py",
   "mimetype": "text/x-python",
   "name": "python",
   "nbconvert_exporter": "python",
   "pygments_lexer": "ipython3",
   "version": "3.7.5"
  }
 },
 "nbformat": 4,
 "nbformat_minor": 4
}
